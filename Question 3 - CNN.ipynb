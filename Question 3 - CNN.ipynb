{
 "cells": [
  {
   "cell_type": "code",
   "execution_count": 1,
   "metadata": {},
   "outputs": [
    {
     "name": "stderr",
     "output_type": "stream",
     "text": [
      "Using TensorFlow backend.\n"
     ]
    },
    {
     "name": "stdout",
     "output_type": "stream",
     "text": [
      "trainImages size:(60000, 28, 28, 1)\n",
      "trainLabels size:(60000, 10)\n",
      "testImages size:(10000, 28, 28, 1)\n",
      "testLabels size:(10000, 10)\n"
     ]
    }
   ],
   "source": [
    "from keras.datasets import mnist\n",
    "from keras.utils import np_utils\n",
    "from keras.models import Sequential\n",
    "from keras import models, layers\n",
    "import keras\n",
    "import matplotlib.pyplot as plt\n",
    "\n",
    "\n",
    "#Load dataset as train and test sets\n",
    "(x_train, y_train), (x_test, y_test) = mnist.load_data()\n",
    "\n",
    "#Set numeric type to float32 from uint8\n",
    "x_train = x_train.astype('float32')\n",
    "x_test = x_test.astype('float32')\n",
    "\n",
    "#Normalize value to [0, 1]\n",
    "x_train /= 255\n",
    "x_test /= 255\n",
    "\n",
    "#Transform lables to one-hot encoding\n",
    "y_train = np_utils.to_categorical(y_train, 10)\n",
    "y_test = np_utils.to_categorical(y_test, 10)\n",
    "\n",
    "#Reshape the dataset into 4D array\n",
    "x_train = x_train.reshape(x_train.shape[0], 28,28,1)\n",
    "x_test = x_test.reshape(x_test.shape[0], 28,28,1)\n",
    "\n",
    "print('trainImages size:' + str(x_train.shape))\n",
    "print('trainLabels size:' + str(y_train.shape))\n",
    "print('testImages size:' + str(x_test.shape))\n",
    "print('testLabels size:' + str(y_test.shape))\n"
   ]
  },
  {
   "cell_type": "code",
   "execution_count": 2,
   "metadata": {
    "scrolled": false
   },
   "outputs": [
    {
     "name": "stdout",
     "output_type": "stream",
     "text": [
      "WARNING:tensorflow:From /home/jdsantos/anaconda3/envs/tensorflow/lib/python3.7/site-packages/keras/backend/tensorflow_backend.py:74: The name tf.get_default_graph is deprecated. Please use tf.compat.v1.get_default_graph instead.\n",
      "\n",
      "WARNING:tensorflow:From /home/jdsantos/anaconda3/envs/tensorflow/lib/python3.7/site-packages/keras/backend/tensorflow_backend.py:517: The name tf.placeholder is deprecated. Please use tf.compat.v1.placeholder instead.\n",
      "\n",
      "WARNING:tensorflow:From /home/jdsantos/anaconda3/envs/tensorflow/lib/python3.7/site-packages/keras/backend/tensorflow_backend.py:4138: The name tf.random_uniform is deprecated. Please use tf.random.uniform instead.\n",
      "\n",
      "WARNING:tensorflow:From /home/jdsantos/anaconda3/envs/tensorflow/lib/python3.7/site-packages/keras/backend/tensorflow_backend.py:3980: The name tf.nn.avg_pool is deprecated. Please use tf.nn.avg_pool2d instead.\n",
      "\n",
      "WARNING:tensorflow:From /home/jdsantos/anaconda3/envs/tensorflow/lib/python3.7/site-packages/keras/optimizers.py:790: The name tf.train.Optimizer is deprecated. Please use tf.compat.v1.train.Optimizer instead.\n",
      "\n",
      "WARNING:tensorflow:From /home/jdsantos/anaconda3/envs/tensorflow/lib/python3.7/site-packages/keras/backend/tensorflow_backend.py:3295: The name tf.log is deprecated. Please use tf.math.log instead.\n",
      "\n",
      "WARNING:tensorflow:From /home/jdsantos/anaconda3/envs/tensorflow/lib/python3.7/site-packages/tensorflow/python/ops/math_grad.py:1250: add_dispatch_support.<locals>.wrapper (from tensorflow.python.ops.array_ops) is deprecated and will be removed in a future version.\n",
      "Instructions for updating:\n",
      "Use tf.where in 2.0, which has the same broadcast rule as np.where\n",
      "WARNING:tensorflow:From /home/jdsantos/anaconda3/envs/tensorflow/lib/python3.7/site-packages/keras/backend/tensorflow_backend.py:986: The name tf.assign_add is deprecated. Please use tf.compat.v1.assign_add instead.\n",
      "\n",
      "Train on 60000 samples, validate on 10000 samples\n",
      "Epoch 1/20\n",
      "60000/60000 [==============================] - 20s 326us/step - loss: 0.8020 - acc: 0.7967 - val_loss: 0.3878 - val_acc: 0.8955\n",
      "Epoch 2/20\n",
      "60000/60000 [==============================] - 19s 322us/step - loss: 0.3417 - acc: 0.9038 - val_loss: 0.2840 - val_acc: 0.9188\n",
      "Epoch 3/20\n",
      "60000/60000 [==============================] - 24s 393us/step - loss: 0.2730 - acc: 0.9206 - val_loss: 0.2372 - val_acc: 0.9303\n",
      "Epoch 4/20\n",
      "60000/60000 [==============================] - 19s 320us/step - loss: 0.2314 - acc: 0.9324 - val_loss: 0.2036 - val_acc: 0.9403\n",
      "Epoch 5/20\n",
      "60000/60000 [==============================] - 20s 335us/step - loss: 0.2004 - acc: 0.9415 - val_loss: 0.1758 - val_acc: 0.9476\n",
      "Epoch 6/20\n",
      "60000/60000 [==============================] - 20s 339us/step - loss: 0.1763 - acc: 0.9487 - val_loss: 0.1552 - val_acc: 0.9560\n",
      "Epoch 7/20\n",
      "60000/60000 [==============================] - 21s 346us/step - loss: 0.1568 - acc: 0.9539 - val_loss: 0.1395 - val_acc: 0.9612\n",
      "Epoch 8/20\n",
      "60000/60000 [==============================] - 20s 330us/step - loss: 0.1409 - acc: 0.9585 - val_loss: 0.1252 - val_acc: 0.9650\n",
      "Epoch 9/20\n",
      "60000/60000 [==============================] - 20s 338us/step - loss: 0.1278 - acc: 0.9625 - val_loss: 0.1157 - val_acc: 0.9684\n",
      "Epoch 10/20\n",
      "60000/60000 [==============================] - 20s 340us/step - loss: 0.1170 - acc: 0.9659 - val_loss: 0.1062 - val_acc: 0.9693\n",
      "Epoch 11/20\n",
      "60000/60000 [==============================] - 21s 348us/step - loss: 0.1074 - acc: 0.9688 - val_loss: 0.0969 - val_acc: 0.9710\n",
      "Epoch 12/20\n",
      "60000/60000 [==============================] - 19s 315us/step - loss: 0.0996 - acc: 0.9712 - val_loss: 0.0910 - val_acc: 0.9744\n",
      "Epoch 13/20\n",
      "60000/60000 [==============================] - 21s 342us/step - loss: 0.0929 - acc: 0.9726 - val_loss: 0.0847 - val_acc: 0.9757\n",
      "Epoch 14/20\n",
      "60000/60000 [==============================] - 21s 351us/step - loss: 0.0868 - acc: 0.9749 - val_loss: 0.0800 - val_acc: 0.9760\n",
      "Epoch 15/20\n",
      "60000/60000 [==============================] - 20s 330us/step - loss: 0.0817 - acc: 0.9766 - val_loss: 0.0775 - val_acc: 0.9771\n",
      "Epoch 16/20\n",
      "60000/60000 [==============================] - 21s 350us/step - loss: 0.0773 - acc: 0.9779 - val_loss: 0.0727 - val_acc: 0.9775\n",
      "Epoch 17/20\n",
      "60000/60000 [==============================] - 20s 340us/step - loss: 0.0731 - acc: 0.9796 - val_loss: 0.0701 - val_acc: 0.9788\n",
      "Epoch 18/20\n",
      "60000/60000 [==============================] - 20s 331us/step - loss: 0.0697 - acc: 0.9801 - val_loss: 0.0657 - val_acc: 0.9797\n",
      "Epoch 19/20\n",
      "60000/60000 [==============================] - 20s 333us/step - loss: 0.0664 - acc: 0.9814 - val_loss: 0.0647 - val_acc: 0.9804\n",
      "Epoch 20/20\n",
      "60000/60000 [==============================] - 20s 340us/step - loss: 0.0635 - acc: 0.9821 - val_loss: 0.0624 - val_acc: 0.9809\n"
     ]
    }
   ],
   "source": [
    "#Instantiate an empty model\n",
    "model = Sequential()\n",
    "\n",
    "#C1 Convolutional Layer\n",
    "model.add(layers.Conv2D(6, kernel_size=(5, 5), strides=(1, 1), \n",
    "                        activation='tanh', input_shape=(28,28,1), padding=\"same\"))\n",
    "\n",
    "#S2 Pooling Layer\n",
    "model.add(layers.AveragePooling2D(pool_size=(2, 2), strides=(2, 2), padding=\"valid\"))\n",
    "\n",
    "#C3 Convolutional Layer\n",
    "model.add(layers.Conv2D(16, kernel_size=(5, 5), strides=(1, 1), activation='tanh', padding=\"valid\"))\n",
    "\n",
    "#S4 Pooling Layer\n",
    "model.add(layers.AveragePooling2D(pool_size=(2, 2), strides=(2, 2), padding=\"valid\"))\n",
    "\n",
    "#Flatten the CNN output so that we can connect it with fully connected layers\n",
    "model.add(layers.Flatten())\n",
    "\n",
    "#FC5 Fully Connected Layer\n",
    "model.add(layers.Dense(120, activation='tanh'))\n",
    "\n",
    "#FC6 Fully Connected Layer\n",
    "model.add(layers.Dense(84, activation='tanh'))\n",
    "\n",
    "#Output Layer with softmax activation\n",
    "model.add(layers.Dense(10, activation='softmax'))\n",
    "\n",
    "#Compile the model\n",
    "model.compile(loss=keras.losses.categorical_crossentropy, optimizer='SGD', metrics=[\"accuracy\"])\n",
    "\n",
    "hist = model.fit(x=x_train,y=y_train, epochs=20, batch_size=64, validation_data=(x_test, y_test), verbose=1)"
   ]
  },
  {
   "cell_type": "code",
   "execution_count": 3,
   "metadata": {},
   "outputs": [
    {
     "name": "stdout",
     "output_type": "stream",
     "text": [
      "10000/10000 [==============================] - 2s 166us/step\n",
      "Test loss 0.0624, accuracy 98.09%\n"
     ]
    }
   ],
   "source": [
    "test_score = model.evaluate(x_test, y_test)\n",
    "print(\"Test loss {:.4f}, accuracy {:.2f}%\".format(test_score[0], test_score[1] * 100))"
   ]
  },
  {
   "cell_type": "code",
   "execution_count": 5,
   "metadata": {},
   "outputs": [
    {
     "data": {
      "text/plain": [
       "Text(0, 0.5, 'acc')"
      ]
     },
     "execution_count": 5,
     "metadata": {},
     "output_type": "execute_result"
    },
    {
     "data": {
      "image/png": "[encoded data removed]",
      "text/plain": [
       "<Figure size 432x288 with 1 Axes>"
      ]
     },
     "metadata": {
      "needs_background": "light"
     },
     "output_type": "display_data"
    }
   ],
   "source": [
    "f,ax = plt.subplots()\n",
    "ax.plot([None] + hist.history['acc'], 'o-')\n",
    "ax.plot([None] + hist.history['val_acc'], 'x-')\n",
    "# Plot legend and use the best location automatically: loc = 0.\n",
    "ax.legend(['Train acc', 'Validation acc'], loc = 0)\n",
    "ax.set_title('Training/Validation acc per Epoch')\n",
    "ax.set_xlabel('Epoch')\n",
    "ax.set_ylabel('acc')"
   ]
  },
  {
   "cell_type": "code",
   "execution_count": 11,
   "metadata": {},
   "outputs": [
    {
     "data": {
      "text/plain": [
       "Text(0, 0.5, 'Loss')"
      ]
     },
     "execution_count": 11,
     "metadata": {},
     "output_type": "execute_result"
    },
    {
     "data": {
      "image/png": "[encoded data removed]",
      "text/plain": [
       "<Figure size 432x288 with 1 Axes>"
      ]
     },
     "metadata": {
      "needs_background": "light"
     },
     "output_type": "display_data"
    }
   ],
   "source": [
    "f, ax = plt.subplots()\n",
    "ax.plot([None] + hist.history['loss'], 'o-')\n",
    "ax.plot([None] + hist.history['val_loss'], 'x-')\n",
    "# Plot legend and use the best location automatically: loc = 0.\n",
    "ax.legend(['Train Loss', 'Validation Loss'], loc = 0)\n",
    "ax.set_title('Training/Validation Loss per Epoch')\n",
    "ax.set_xlabel('Epoch')\n",
    "ax.set_ylabel('Loss')"
   ]
  },
  {
   "cell_type": "code",
   "execution_count": null,
   "metadata": {},
   "outputs": [],
   "source": []
  }
 ],
 "metadata": {
  "kernelspec": {
   "display_name": "Python 3",
   "language": "python",
   "name": "python3"
  },
  "language_info": {
   "codemirror_mode": {
    "name": "ipython",
    "version": 3
   },
   "file_extension": ".py",
   "mimetype": "text/x-python",
   "name": "python",
   "nbconvert_exporter": "python",
   "pygments_lexer": "ipython3",
   "version": "3.7.4"
  }
 },
 "nbformat": 4,
 "nbformat_minor": 2
}
