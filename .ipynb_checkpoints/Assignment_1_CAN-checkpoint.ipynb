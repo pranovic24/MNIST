{
 "cells": [
  {
   "cell_type": "code",
   "execution_count": 1,
   "metadata": {},
   "outputs": [],
   "source": [
    "from __future__ import print_function\n",
    "from sklearn.neighbors import KNeighborsClassifier\n",
    "import numpy as np\n",
    "import math\n",
    "import matplotlib.pyplot as plt\n",
    "import scipy\n",
    "from PIL import Image\n",
    "from scipy import ndimage\n",
    "import tensorflow as tf\n",
    "from tensorflow.python.framework import ops\n",
    "\n",
    "def read_idx(filename):\n",
    "    with open(filename, 'rb') as f:\n",
    "        zero, data_type, dims = struct.unpack('>HBB', f.read(4))\n",
    "        shape = tuple(struct.unpack('>I', f.read(4))[0] for d in range(dims))\n",
    "        return np.fromstring(f.read(), dtype=np.uint8).reshape(shape)"
   ]
  },
  {
   "cell_type": "code",
   "execution_count": 2,
   "metadata": {},
   "outputs": [
    {
     "name": "stderr",
     "output_type": "stream",
     "text": [
      "/home/jdsantos/anaconda3/envs/tensorflow/lib/python3.7/site-packages/ipykernel_launcher.py:16: DeprecationWarning: The binary mode of fromstring is deprecated, as it behaves surprisingly on unicode inputs. Use frombuffer instead\n",
      "  app.launch_new_instance()\n"
     ]
    }
   ],
   "source": [
    "import struct\n",
    "train_image=read_idx('train-images.idx3-ubyte')\n",
    "train_label=read_idx('train-labels.idx1-ubyte')\n",
    "test_image=read_idx('test-images.idx3-ubyte')\n",
    "test_label=read_idx('test-labels.idx1-ubyte')"
   ]
  },
  {
   "cell_type": "code",
   "execution_count": 3,
   "metadata": {},
   "outputs": [],
   "source": [
    "def convert_to_one_hot(Y, C):\n",
    "    Y = np.eye(C)[Y.reshape(-1)].T\n",
    "    return Y"
   ]
  },
  {
   "cell_type": "code",
   "execution_count": 4,
   "metadata": {},
   "outputs": [],
   "source": [
    "train_label=train_label.reshape(train_label.shape[0],1)\n",
    "test_label=test_label.reshape(test_label.shape[0],1)"
   ]
  },
  {
   "cell_type": "code",
   "execution_count": 5,
   "metadata": {},
   "outputs": [],
   "source": [
    "train_y=convert_to_one_hot(train_label, 10).T\n",
    "test_y=convert_to_one_hot(test_label, 10).T\n",
    "train_data=train_image/255.\n",
    "test_data=test_image/255."
   ]
  },
  {
   "cell_type": "code",
   "execution_count": 6,
   "metadata": {},
   "outputs": [
    {
     "name": "stdout",
     "output_type": "stream",
     "text": [
      "train_data shape: (60000, 28, 28, 1)\n",
      "test_data shape: (10000, 28, 28, 1)\n",
      "train_data shape: (60000, 10)\n",
      "test_data shape: (10000, 10)\n",
      "[4]\n"
     ]
    },
    {
     "data": {
      "image/png": "[encoded data removed]",
      "text/plain": [
       "<Figure size 72x72 with 1 Axes>"
      ]
     },
     "metadata": {
      "needs_background": "light"
     },
     "output_type": "display_data"
    }
   ],
   "source": [
    "train_data = train_data.reshape(train_data.shape[0], 28,28,1)\n",
    "test_data = test_data.reshape(test_data.shape[0], 28,28,1)\n",
    "print (\"train_data shape: \" + str(train_data.shape))\n",
    "print (\"test_data shape: \" + str(test_data.shape))\n",
    "print (\"train_data shape: \" + str(train_y.shape))\n",
    "print (\"test_data shape: \" + str(test_y.shape))\n",
    "index=58\n",
    "image = train_image[index].squeeze()\n",
    "import matplotlib.pyplot as plt\n",
    "plt.figure(figsize=(1,1))\n",
    "plt.imshow(image, cmap=\"gray\")\n",
    "print(train_label[index])"
   ]
  },
  {
   "cell_type": "code",
   "execution_count": 7,
   "metadata": {},
   "outputs": [],
   "source": [
    "def create_placeholders(n_H0, n_W0, n_C0, n_y):\n",
    "\n",
    "    X = tf.placeholder(tf.float32, [None, n_H0, n_W0, n_C0])\n",
    "    Y = tf.placeholder(tf.float32, [None, n_y])\n",
    "    \n",
    "    return X, Y"
   ]
  },
  {
   "cell_type": "code",
   "execution_count": 8,
   "metadata": {},
   "outputs": [],
   "source": [
    "def initialize_parameters(nc):\n",
    "    \n",
    "    tf.set_random_seed(1)               \n",
    "        \n",
    "    W1 = tf.get_variable(\"W1\", [3, 3, 1, nc], initializer=tf.contrib.layers.xavier_initializer(seed=0))\n",
    "    W2 = tf.get_variable(\"W2\", [3, 3, nc, nc], initializer=tf.contrib.layers.xavier_initializer(seed=0))\n",
    "    W3 = tf.get_variable(\"W3\", [3, 3, nc, nc], initializer=tf.contrib.layers.xavier_initializer(seed=0))\n",
    "    W4 = tf.get_variable(\"W4\", [3, 3, nc, nc], initializer=tf.contrib.layers.xavier_initializer(seed=0))\n",
    "    W5 = tf.get_variable(\"W5\", [3, 3, nc, 10], initializer=tf.contrib.layers.xavier_initializer(seed=0))\n",
    "   \n",
    "    parameters = {\"W1\": W1,\n",
    "                  \"W2\": W2,\n",
    "                  \"W3\": W3,\n",
    "                  \"W4\": W4,\n",
    "                  \"W5\": W5}\n",
    "    \n",
    "    return parameters"
   ]
  },
  {
   "cell_type": "code",
   "execution_count": 9,
   "metadata": {},
   "outputs": [],
   "source": [
    "def forward_propagation(X, parameters):\n",
    "    \"\"\"\n",
    "   CAN Architecture\n",
    "    \"\"\"\n",
    "    \n",
    "    W1 = parameters['W1']\n",
    "    W2 = parameters['W2']\n",
    "    W3 = parameters['W3']\n",
    "    W4 = parameters['W4']\n",
    "    W5 = parameters['W5']\n",
    "   \n",
    "    # L-1\n",
    "    Z1 = tf.nn.conv2d(X,W1, strides = [1,1,1,1], padding = 'SAME')\n",
    "    A1 = tf.nn.leaky_relu(Z1,alpha=0.1)\n",
    "    # L-2\n",
    "    Z2 = tf.nn.atrous_conv2d(A1,W2, rate=2, padding = 'SAME')\n",
    "    A2 = tf.nn.leaky_relu(Z2,alpha=0.1)\n",
    "    #L-3\n",
    "    Z3= tf.nn.atrous_conv2d(A2,W3, rate=4, padding = 'SAME')\n",
    "    A3= tf.nn.leaky_relu(Z3,alpha=0.1)\n",
    "    #L-4\n",
    "    Z4= tf.nn.atrous_conv2d(A3,W4, rate=8, padding = 'SAME')\n",
    "    A4= tf.nn.leaky_relu(Z4,alpha=0.1)\n",
    "    #L-5\n",
    "    Z5 = tf.nn.conv2d(A4,W5, strides = [1,1,1,1], padding = 'SAME')\n",
    "    A5 = tf.nn.leaky_relu(Z5,alpha=0.1)\n",
    "    #Global Average pool\n",
    "    Z6=  tf.reduce_mean(A5, axis=[1,2])\n",
    "    # FLATTEN\n",
    "    A6 = tf.contrib.layers.flatten(Z6)\n",
    "\n",
    "    return A6"
   ]
  },
  {
   "cell_type": "code",
   "execution_count": 10,
   "metadata": {},
   "outputs": [],
   "source": [
    "def random_mini_batches(X, Y, mini_batch_size = 64, seed = 0):\n",
    "    \n",
    "    m = X.shape[0]                  \n",
    "    mini_batches = []\n",
    "    np.random.seed(seed)\n",
    "    \n",
    "    permutation = list(np.random.permutation(m))\n",
    "    shuffled_X = X[permutation,:,:,:]\n",
    "    shuffled_Y = Y[permutation,:]\n",
    "\n",
    "    num_complete_minibatches = math.floor(m/mini_batch_size) \n",
    "    for k in range(0, num_complete_minibatches):\n",
    "        mini_batch_X = shuffled_X[k * mini_batch_size : k * mini_batch_size + mini_batch_size,:,:,:]\n",
    "        mini_batch_Y = shuffled_Y[k * mini_batch_size : k * mini_batch_size + mini_batch_size,:]\n",
    "        mini_batch = (mini_batch_X, mini_batch_Y)\n",
    "        mini_batches.append(mini_batch)\n",
    "    \n",
    "    if m % mini_batch_size != 0:\n",
    "        mini_batch_X = shuffled_X[num_complete_minibatches * mini_batch_size : m,:,:,:]\n",
    "        mini_batch_Y = shuffled_Y[num_complete_minibatches * mini_batch_size : m,:]\n",
    "        mini_batch = (mini_batch_X, mini_batch_Y)\n",
    "        mini_batches.append(mini_batch)\n",
    "    \n",
    "    return mini_batches"
   ]
  },
  {
   "cell_type": "code",
   "execution_count": 11,
   "metadata": {},
   "outputs": [],
   "source": [
    "# GRADED FUNCTION: compute_cost \n",
    "\n",
    "def compute_cost(A6, Y):\n",
    "    \n",
    "    cost = tf.reduce_mean(tf.nn.softmax_cross_entropy_with_logits(logits=A6, labels=Y))\n",
    "    \n",
    "    return cost"
   ]
  },
  {
   "cell_type": "code",
   "execution_count": 12,
   "metadata": {},
   "outputs": [],
   "source": [
    "def model(X_train, Y_train, X_test, Y_test, nc, learning_rate = 0.005,\n",
    "          num_epochs = 10, minibatch_size = 64, print_cost = True):\n",
    "   \n",
    "    ops.reset_default_graph()                         \n",
    "    tf.set_random_seed(1)                             \n",
    "    seed = 3                                          \n",
    "    (m, n_H0, n_W0, n_C0) = X_train.shape             \n",
    "    n_y = Y_train.shape[1]                            \n",
    "    costs = []                                        \n",
    "    \n",
    "    X, Y = create_placeholders(n_H0, n_W0, n_C0, n_y)\n",
    "   \n",
    "    parameters = initialize_parameters(nc)\n",
    "   \n",
    "    A6 = forward_propagation(X, parameters)\n",
    "    \n",
    "    #cost = tf.reduce_mean(tf.nn.softmax_cross_entropy_with_logits(logits=A6, labels=Y))\n",
    "    cost=compute_cost(A6, Y)\n",
    "    optimizer = tf.train.AdamOptimizer(learning_rate=learning_rate).minimize(cost)\n",
    "    \n",
    "    init = tf.global_variables_initializer()\n",
    "    #saver = tf.train.Saver()\n",
    "    \n",
    "    with tf.Session() as sess:\n",
    "        \n",
    "        sess.run(init)\n",
    "        \n",
    "        # training loop\n",
    "        for epoch in range(num_epochs):\n",
    "\n",
    "            minibatch_cost = 0.\n",
    "            num_minibatches = int(m / minibatch_size) \n",
    "            seed = seed + 1\n",
    "            minibatches = random_mini_batches(X_train, Y_train, minibatch_size, seed)\n",
    "\n",
    "            for minibatch in minibatches:\n",
    "\n",
    "                (minibatch_X, minibatch_Y) = minibatch\n",
    "                _ , temp_cost = sess.run([optimizer, cost], feed_dict={X:minibatch_X, Y:minibatch_Y})\n",
    "                \n",
    "                minibatch_cost += temp_cost / num_minibatches\n",
    "                \n",
    "            if print_cost == True and epoch % 1 == 0:\n",
    "                print (\"Cost after epoch %i: %f\" % (epoch, minibatch_cost))\n",
    "            if print_cost == True and epoch % 1 == 0:\n",
    "                costs.append(minibatch_cost)\n",
    "        \n",
    "        plt.plot(np.squeeze(costs))\n",
    "        plt.ylabel('cost')\n",
    "        plt.xlabel('iterations ')\n",
    "        plt.title(\"Learning rate =\" + str(learning_rate))\n",
    "        plt.show()\n",
    "        \n",
    "        #saver.save(sess, \"CAN_nc_64\")\n",
    "        predict_op = tf.argmax(A6, 1)\n",
    "        correct_prediction = tf.equal(predict_op, tf.argmax(Y, 1))\n",
    "        accuracy = tf.reduce_mean(tf.cast(correct_prediction, \"float\"))\n",
    "        print(accuracy)\n",
    "        test_accuracy=np.zeros(5)\n",
    "        for t1 in range(5):\n",
    "            test_accuracy[t1] = accuracy.eval({X: X_test[t1*2000:(t1+1)*2000-1,:,:,:], Y: Y_test[t1*2000:(t1+1)*2000-1,:]})\n",
    "            \n",
    "        test_acc = np.mean(test_accuracy)\n",
    "        print(\"No. of channels=%d, Test Accuracy:%.2f%%\" % (nc, test_acc * 100))\n",
    "        #print(\"Test Accuracy:\", test_accuracy*100)\n",
    "        train_accuracy=np.zeros(30)\n",
    "        for t in range(30):\n",
    "            train_accuracy[t] = accuracy.eval({X: X_train[t*2000:(t+1)*2000-1,:,:,:], Y: Y_train[t*2000:(t+1)*2000-1,:]})\n",
    "        \n",
    "        acc=np.mean(train_accuracy)\n",
    "        \n",
    "        print(\"No. of channels=%d, Training Accuracy:%.2f%%\" % (nc, acc*100))\n",
    "        #print(\"Train Accuracy:\", acc*100)\n",
    "               \n",
    "        return acc, test_acc, parameters"
   ]
  },
  {
   "cell_type": "code",
   "execution_count": 13,
   "metadata": {
    "scrolled": false
   },
   "outputs": [
    {
     "name": "stdout",
     "output_type": "stream",
     "text": [
      "WARNING:tensorflow:\n",
      "The TensorFlow contrib module will not be included in TensorFlow 2.0.\n",
      "For more information, please see:\n",
      "  * https://github.com/tensorflow/community/blob/master/rfcs/20180907-contrib-sunset.md\n",
      "  * https://github.com/tensorflow/addons\n",
      "  * https://github.com/tensorflow/io (for I/O related ops)\n",
      "If you depend on functionality not listed there, please file an issue.\n",
      "\n",
      "WARNING:tensorflow:From /home/jdsantos/anaconda3/envs/tensorflow/lib/python3.7/site-packages/tensorflow/contrib/layers/python/layers/layers.py:1634: flatten (from tensorflow.python.layers.core) is deprecated and will be removed in a future version.\n",
      "Instructions for updating:\n",
      "Use keras.layers.flatten instead.\n",
      "WARNING:tensorflow:From <ipython-input-11-2bf721fef7e5>:5: softmax_cross_entropy_with_logits (from tensorflow.python.ops.nn_ops) is deprecated and will be removed in a future version.\n",
      "Instructions for updating:\n",
      "\n",
      "Future major versions of TensorFlow will allow gradients to flow\n",
      "into the labels input on backprop by default.\n",
      "\n",
      "See `tf.nn.softmax_cross_entropy_with_logits_v2`.\n",
      "\n",
      "Cost after epoch 0: 0.268101\n",
      "Cost after epoch 1: 0.061664\n",
      "Cost after epoch 2: 0.048045\n",
      "Cost after epoch 3: 0.039688\n",
      "Cost after epoch 4: 0.036821\n",
      "Cost after epoch 5: 0.034847\n",
      "Cost after epoch 6: 0.027178\n",
      "Cost after epoch 7: 0.026486\n",
      "Cost after epoch 8: 0.025935\n",
      "Cost after epoch 9: 0.024823\n"
     ]
    },
    {
     "data": {
      "image/png": "[encoded data removed]",
      "text/plain": [
       "<Figure size 432x288 with 1 Axes>"
      ]
     },
     "metadata": {
      "needs_background": "light"
     },
     "output_type": "display_data"
    },
    {
     "name": "stdout",
     "output_type": "stream",
     "text": [
      "Tensor(\"Mean_2:0\", shape=(), dtype=float32)\n",
      "No. of channels=32, Test Accuracy:99.10%\n",
      "No. of channels=32, Training Accuracy:99.40%\n",
      "Train Accuracy: 0.993980324268341\n",
      "Test Accuracy: 0.9909954905509949\n"
     ]
    }
   ],
   "source": [
    "trainaccu, testaccu, parameters = model(train_data, train_y, test_data, test_y,32)\n",
    "print(\"Train Accuracy:\", trainaccu)\n",
    "print(\"Test Accuracy:\", testaccu)"
   ]
  },
  {
   "cell_type": "code",
   "execution_count": null,
   "metadata": {},
   "outputs": [],
   "source": []
  }
 ],
 "metadata": {
  "kernelspec": {
   "display_name": "Python 3",
   "language": "python",
   "name": "python3"
  },
  "language_info": {
   "codemirror_mode": {
    "name": "ipython",
    "version": 3
   },
   "file_extension": ".py",
   "mimetype": "text/x-python",
   "name": "python",
   "nbconvert_exporter": "python",
   "pygments_lexer": "ipython3",
   "version": "3.5.6"
  }
 },
 "nbformat": 4,
 "nbformat_minor": 2
}
